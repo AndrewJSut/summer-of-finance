{
 "cells": [
  {
   "cell_type": "markdown",
   "metadata": {},
   "source": [
    "# Summer of Finance \n",
    "**Date:** 2025-05-16  \n",
    "**Author:** Andrew Sutcliffe\n",
    "\n",
    "My project for summer 2025. Each day I’ll explore a small technical concept in finance/quant, actuarial, or trading and document what I learn and build.\n",
    "\n",
    "The goal is consistency & curiosity.\n"
   ]
  },
  {
   "cell_type": "markdown",
   "metadata": {},
   "source": [
    "## Purpose\n",
    "\n",
    "This project is meant to help me:\n",
    "\n",
    "- Explore different branches of finance I'm interested in (actuarial, quant, algo trading)\n",
    "- Learn technical concepts by implementing them\n",
    "- Reflect on what I enjoy (or don't) as I prepare for my internship and career decisions\n",
    "- Stay sharp without burning out — just 1–2 hours of focused learning a day\n"
   ]
  },
  {
   "cell_type": "markdown",
   "metadata": {},
   "source": [
    "## Sub-Themes I’ll Explore\n",
    "\n",
    "Here are the rotating focus areas I plan to work through this summer:\n",
    "\n",
    "- **Actuarial Finance**: pensions, annuities, mortality models, risk pooling\n",
    "- **Quantitative Finance**: CAPM, factor models, volatility, portfolio construction\n",
    "- **Algorithmic Trading**: trading signals, backtesting, alpha research, clustering\n",
    "\n",
    "Each theme will get at least a few notebooks.\n"
   ]
  },
  {
   "cell_type": "markdown",
   "metadata": {},
   "source": [
    "## Today's Work\n",
    "\n",
    "- Set up this GitHub repo and virtual environment\n",
    "- Installed necessary libraries\n",
    "- Created this intro notebook as the official kickoff\n",
    "\n",
    "Tomorrow I’ll start with organizing some ideas to draw from. There should be limited planning - explore what I'm interested in each day.\n",
    "\n",
    "I’ll aim to commit/push to GitHub every day\n"
   ]
  }
 ],
 "metadata": {
  "language_info": {
   "name": "python"
  }
 },
 "nbformat": 4,
 "nbformat_minor": 2
}
