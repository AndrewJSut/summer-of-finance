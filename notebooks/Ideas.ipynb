{
 "cells": [
  {
   "cell_type": "markdown",
   "metadata": {},
   "source": [
    "### Collection of Ideas to be elaborated on"
   ]
  },
  {
   "cell_type": "markdown",
   "metadata": {},
   "source": [
    "#### Create a \"research pipeline\" for ML-Driven Alpha Discovery.\n",
    "\n",
    "**Step 1**: Define the Prediction Problem\n",
    "Target: Choose your prediction objective. Most common:\n",
    "- Binary: Will the return over the next h days be positive?\n",
    "- Regression: What will the return over h days be?\n",
    "- Classification: Momentum regime (uptrend, downtrend, sideways)\n",
    "\n",
    "**Step 2**: Label the Data\n",
    "\n",
    "- Triple Barrier Method: Defines label = +1, -1, or 0 based on price hitting profit/stop/timeout\n",
    "- Trend Scanning: Finds significant directional moves without arbitrary thresholds\n",
    "- Simple Return Sign: e.g. np.sign(fwd_return)\n",
    "\n",
    "**Step 3**: Feature Engineering\n",
    "- Price-based: Momentum, volatility, skew, drawdown\n",
    "- Volume-based: Volume spikes, VWAP deviations\n",
    "- Sentiment: NLP score from tweets/news\n",
    "- Macro: Interest rates, inflation, etc.\n",
    "\n",
    "Normalize using z-scores, winsorization, or rolling transformations.\n",
    "\n",
    "**Step 4**: Handle Sample Weights & Overlap\n",
    "Apply decay weights if using overlapping labels.\n",
    "\n",
    "- Use sequential bootstrapping for model training to avoid lookahead bias.\n",
    "\n",
    "**Step 5**: Train Your Model\n",
    "- Use tree-based models (e.g. XGBoost, RandomForest) or logistic regression for interpretability.\n",
    "- Always use Purged Walk-Forward Cross-Validation to avoid leakage from overlapping data.\n",
    "\n",
    "**Step 6**: Backtest Strategy Logic\n",
    "- Long assets with high predicted probability of positive return\n",
    "- Short low-probability assets (optional)\n",
    "\n",
    "Account for:\n",
    "- Transaction costs\n",
    "- Holding periods\n",
    "- Rebalancing frequency\n",
    "\n",
    "**Step 7**: Evaluate Strategy\n",
    "- Sharpe Ratio\n",
    "- Hit Ratio\n",
    "- Max Drawdown\n",
    "- Turnover\n",
    "- IC / IR of model signal"
   ]
  },
  {
   "cell_type": "markdown",
   "metadata": {},
   "source": [
    "Alexandre Plan:\n",
    "\n",
    "Recommended Plan:\n",
    "1.\tMake the BEST alpha model we can make, it should\n",
    "    a.\tBeat S&P\n",
    "    b.\tYou can predict the returns of a stock well on average\n",
    "    c.\tGood alpha back-test\n",
    "    d.\tBuild a framework that scrapes SEC data and us electorate data (theres a website that compiles this)\n",
    "    e.\tTry to start with 2-4 weeks trading time frame\n",
    "2.\tNow go RL – given alpha score, build the portfolio\n",
    "    a.\tAlpha stack –  “get a little bit of alpha from a lot of places”\n",
    "    b.\tFocus on transfer coefficient\n",
    "3.\tChange universe to small stocks\n"
   ]
  },
  {
   "cell_type": "markdown",
   "metadata": {},
   "source": [
    "ML-Enhanced Momentum with Meta-Labeling\n",
    "\n",
    "- Goal: Improve a standard momentum strategy (12M-1M) using a classifier that predicts whether the signal is valid.\n",
    "\n",
    "- Label: Use triple-barrier method to determine if a past momentum signal \"worked\"\n",
    "\n",
    "- Features: Momentum, volatility, volume, skewness\n",
    "\n",
    "- Model: Train a classifier to predict future success of momentum signals\n",
    "\n",
    "- Compare with naive momentum strategy"
   ]
  }
 ],
 "metadata": {
  "language_info": {
   "name": "python"
  }
 },
 "nbformat": 4,
 "nbformat_minor": 2
}
